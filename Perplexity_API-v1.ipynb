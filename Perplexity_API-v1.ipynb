{
 "cells": [
  {
   "cell_type": "code",
   "execution_count": 0,
   "id": "d5fa8db2-7487-4660-b29d-3210b944c8aa",
   "metadata": {},
   "outputs": [],
   "source": [
    "from bs4 import BeautifulSoup\n",
    "import re\n",
    "import pandas as pd\n",
    "from tqdm import tqdm\n",
    "import ast\n",
    "import requests\n",
    "import apikey\n",
    "import os\n",
    "from pydantic import BaseModel\n",
    "from typing import Deque, List, Optional, Tuple\n",
    "from ast import literal_eval\n"
   ]
  },
  {
   "cell_type": "code",
   "execution_count": 0,
   "id": "22d9c532-ebf1-4ef7-916e-4de96a204fa8",
   "metadata": {},
   "outputs": [],
   "source": [
    "pswd = apikey.load(\"Perplexity API key\", filename=r'path to your key')"
   ]
  },
  {
   "cell_type": "code",
   "execution_count": 0,
   "id": "a9231ca0-374d-435e-a58f-2bf31762c698",
   "metadata": {},
   "outputs": [],
   "source": [
    "###get a list of the websites you want loop through Perplexity\n",
    "df=pd.read_csv('path to /YOUR LIST OF URLs.csv')\n",
    "urls=df.Website.dropna().values.tolist()"
   ]
  },
  {
   "cell_type": "code",
   "execution_count": 0,
   "id": "16b4eb82-0b6b-436a-a579-a8dedbfdcb76",
   "metadata": {},
   "outputs": [],
   "source": [
    "df_all=pd.DataFrame() ### table to add results of each API/website call"
   ]
  },
  {
   "cell_type": "code",
   "execution_count": 0,
   "id": "ac08c99c-4f22-489b-abd8-d2e93bc18879",
   "metadata": {},
   "outputs": [
    {
     "name": "stderr",
     "output_type": "stream",
     "text": [
      "100%|██████████| 157/157 [12:35<00:00,  4.81s/it]\n"
     ]
    }
   ],
   "source": [
    "class AnswerFormat(BaseModel):\n",
    "    company_name: str\n",
    "    location: str\n",
    "    year_of_incorporation: str \n",
    "    number_of_employees: int\n",
    "    amount_money_raised: str \n",
    "    core_technology: str \n",
    "    core_products: str \n",
    "    website_summary: str\n",
    "    use_cases: str\n",
    "\n",
    "\n",
    "for link in tqdm(urls):\n",
    "    perplexity_url = \"https://api.perplexity.ai/chat/completions\"\n",
    "    # \"model\": \"sonar-reasoning-pro\",\n",
    "    headers = {\"Authorization\": f\"Bearer {pswd}\"}\n",
    "    payload = {\n",
    "        \"model\": \"sonar\",\n",
    "        \"messages\": [\n",
    "            {\"role\": \"system\", \"content\": \"You are a helpful assistant.\"},\n",
    "            {\"role\": \"user\", \"content\":\n",
    "                f\"extract the information from this website: {link} and from the Internet about this company and return the information about company name, use cases they target, location of the main office, year of incorporation, total amount of investments raised, list of core technologies, list of core products, and website summary \"\n",
    "             \"Please output a JSON object containing the following fields: company_name, use_cases, location, year_of_incorporation, number_of_employees,amount_money_raised, core_technology, core_products, website_summary. \"\n",
    "            }\n",
    "        ],\n",
    "        \n",
    "        \"response_format\": {\n",
    "    \t\t    \"type\": \"json_schema\",\n",
    "            \"json_schema\": {\"schema\": AnswerFormat.model_json_schema()},\n",
    "        },\n",
    "        # \"search_domain_filter\": [\n",
    "        #     f\"{link}\",\n",
    "        #     #\"wikipedia.org\",\n",
    "        #     \"crunchbase.com\",\n",
    "        #     \"cbinsights.com\",\n",
    "        #     \"pitchbook.com\"\n",
    "        # ]\n",
    "    }\n",
    "    \n",
    "    response = requests.post(perplexity_url, headers=headers, json=payload).json()\n",
    "    res_str=response[\"choices\"][0][\"message\"][\"content\"]\n",
    "    df_all=pd.concat([df_all, pd.DataFrame.from_dict(literal_eval(res_str), orient='index').T])"
   ]
  },
  {
   "cell_type": "code",
   "execution_count": 0,
   "id": "7bebde1f-4882-40b2-8ed1-6c04fd4f0918",
   "metadata": {},
   "outputs": [],
   "source": [
    "df_all.to_csv('path to/NAME YOUR OUTPUT FILE.csv')"
   ]
  },
  {
   "cell_type": "code",
   "execution_count": 0,
   "id": "623052df-46cd-4cff-ae65-ec766d58aba4",
   "metadata": {},
   "outputs": [],
   "source": [
    "df_all"
   ]
  }
 ],
 "metadata": {
  "kernelspec": {
   "display_name": "Python 3 (ipykernel)",
   "language": "python",
   "name": "python3"
  },
  "language_info": {
   "codemirror_mode": {
    "name": "ipython",
    "version": 3
   },
   "file_extension": ".py",
   "mimetype": "text/x-python",
   "name": "python",
   "nbconvert_exporter": "python",
   "pygments_lexer": "ipython3",
   "version": "3.12.3"
  }
 },
 "nbformat": 4,
 "nbformat_minor": 5
}
